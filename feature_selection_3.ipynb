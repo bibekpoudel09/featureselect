{
 "cells": [
  {
   "cell_type": "markdown",
   "id": "c25a247e",
   "metadata": {},
   "source": [
    "# Anova Test For Feature Selection"
   ]
  },
  {
   "cell_type": "markdown",
   "id": "94a71001",
   "metadata": {},
   "source": [
    "###### we use chi-square test for categorical  features whereas we use Anova Test(f_classif) for  quantitative/continuos/numerical features where we calculate f-value"
   ]
  },
  {
   "cell_type": "code",
   "execution_count": 3,
   "id": "8552aff5",
   "metadata": {},
   "outputs": [],
   "source": [
    "from sklearn.datasets import load_iris\n",
    "from sklearn.feature_selection import SelectKBest,f_classif"
   ]
  },
  {
   "cell_type": "code",
   "execution_count": 5,
   "id": "cbe41a01",
   "metadata": {},
   "outputs": [],
   "source": [
    "iris = load_iris()"
   ]
  },
  {
   "cell_type": "code",
   "execution_count": 6,
   "id": "937ea007",
   "metadata": {},
   "outputs": [],
   "source": [
    "X =  iris.data\n",
    "y = iris.target"
   ]
  },
  {
   "cell_type": "markdown",
   "id": "75044eed",
   "metadata": {},
   "source": [
    "#### Implementing Anova test"
   ]
  },
  {
   "cell_type": "code",
   "execution_count": 7,
   "id": "0f72a899",
   "metadata": {},
   "outputs": [],
   "source": [
    "model = SelectKBest(score_func=f_classif,k=2)\n",
    "z = model.fit_transform(X,y).shape"
   ]
  },
  {
   "cell_type": "code",
   "execution_count": 9,
   "id": "5416335f",
   "metadata": {},
   "outputs": [
    {
     "data": {
      "text/plain": [
       "(150, 2)"
      ]
     },
     "execution_count": 9,
     "metadata": {},
     "output_type": "execute_result"
    }
   ],
   "source": [
    "z"
   ]
  },
  {
   "cell_type": "code",
   "execution_count": 12,
   "id": "8e85e83b",
   "metadata": {},
   "outputs": [
    {
     "data": {
      "text/plain": [
       "(150, 4)"
      ]
     },
     "execution_count": 12,
     "metadata": {},
     "output_type": "execute_result"
    }
   ],
   "source": [
    "X.shape"
   ]
  },
  {
   "cell_type": "markdown",
   "id": "91d04de6",
   "metadata": {},
   "source": [
    "###### Initially we have four features in  the dataset but after the anova test only 2 features are selected"
   ]
  },
  {
   "cell_type": "markdown",
   "id": "aad489e0",
   "metadata": {},
   "source": [
    "###### "
   ]
  },
  {
   "cell_type": "markdown",
   "id": "758b5252",
   "metadata": {},
   "source": [
    "# Correlation Heatmap"
   ]
  },
  {
   "cell_type": "markdown",
   "id": "6b3302af",
   "metadata": {},
   "source": [
    "###### Using the correlation value between the target variable and the feature variable  we can predict that the how important is the features for targer"
   ]
  },
  {
   "cell_type": "markdown",
   "id": "a1093149",
   "metadata": {},
   "source": [
    "###### We will user Pearson Correlation  for testing the correlation between the features,where the coefficient value ranges from -1 to 1 and if the correlation betweent two features is 0 this means that changing any of these two features will not affect the other."
   ]
  },
  {
   "cell_type": "code",
   "execution_count": null,
   "id": "291fcc82",
   "metadata": {},
   "outputs": [],
   "source": []
  },
  {
   "cell_type": "code",
   "execution_count": null,
   "id": "9bcd5420",
   "metadata": {},
   "outputs": [],
   "source": []
  }
 ],
 "metadata": {
  "kernelspec": {
   "display_name": "Python 3 (ipykernel)",
   "language": "python",
   "name": "python3"
  },
  "language_info": {
   "codemirror_mode": {
    "name": "ipython",
    "version": 3
   },
   "file_extension": ".py",
   "mimetype": "text/x-python",
   "name": "python",
   "nbconvert_exporter": "python",
   "pygments_lexer": "ipython3",
   "version": "3.9.13"
  }
 },
 "nbformat": 4,
 "nbformat_minor": 5
}
