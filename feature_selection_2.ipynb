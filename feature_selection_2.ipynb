{
 "cells": [
  {
   "cell_type": "markdown",
   "id": "9ff77f71",
   "metadata": {},
   "source": [
    "# Univariate Selection Methods"
   ]
  },
  {
   "cell_type": "markdown",
   "id": "ca2431c9",
   "metadata": {},
   "source": [
    "###### There are 2 methods  that fall under this category"
   ]
  },
  {
   "cell_type": "markdown",
   "id": "9125f8f2",
   "metadata": {},
   "source": [
    "### 1.SelectKBest"
   ]
  },
  {
   "cell_type": "markdown",
   "id": "e67eee76",
   "metadata": {},
   "source": [
    "###### SelectKbest is used for findign the best features where k parameter determines the no. of best features we want."
   ]
  },
  {
   "cell_type": "code",
   "execution_count": 1,
   "id": "63ee6a9d",
   "metadata": {},
   "outputs": [],
   "source": [
    "import numpy as np\n",
    "import pandas as pd"
   ]
  },
  {
   "cell_type": "code",
   "execution_count": 28,
   "id": "2cf61574",
   "metadata": {},
   "outputs": [
    {
     "data": {
      "text/html": [
       "<div>\n",
       "<style scoped>\n",
       "    .dataframe tbody tr th:only-of-type {\n",
       "        vertical-align: middle;\n",
       "    }\n",
       "\n",
       "    .dataframe tbody tr th {\n",
       "        vertical-align: top;\n",
       "    }\n",
       "\n",
       "    .dataframe thead th {\n",
       "        text-align: right;\n",
       "    }\n",
       "</style>\n",
       "<table border=\"1\" class=\"dataframe\">\n",
       "  <thead>\n",
       "    <tr style=\"text-align: right;\">\n",
       "      <th></th>\n",
       "      <th>Id</th>\n",
       "      <th>SepalLengthCm</th>\n",
       "      <th>SepalWidthCm</th>\n",
       "      <th>PetalLengthCm</th>\n",
       "      <th>PetalWidthCm</th>\n",
       "      <th>Species</th>\n",
       "    </tr>\n",
       "  </thead>\n",
       "  <tbody>\n",
       "    <tr>\n",
       "      <th>0</th>\n",
       "      <td>1</td>\n",
       "      <td>5.1</td>\n",
       "      <td>3.5</td>\n",
       "      <td>1.4</td>\n",
       "      <td>0.2</td>\n",
       "      <td>Iris-setosa</td>\n",
       "    </tr>\n",
       "    <tr>\n",
       "      <th>1</th>\n",
       "      <td>2</td>\n",
       "      <td>4.9</td>\n",
       "      <td>3.0</td>\n",
       "      <td>1.4</td>\n",
       "      <td>0.2</td>\n",
       "      <td>Iris-setosa</td>\n",
       "    </tr>\n",
       "    <tr>\n",
       "      <th>2</th>\n",
       "      <td>3</td>\n",
       "      <td>4.7</td>\n",
       "      <td>3.2</td>\n",
       "      <td>1.3</td>\n",
       "      <td>0.2</td>\n",
       "      <td>Iris-setosa</td>\n",
       "    </tr>\n",
       "    <tr>\n",
       "      <th>3</th>\n",
       "      <td>4</td>\n",
       "      <td>4.6</td>\n",
       "      <td>3.1</td>\n",
       "      <td>1.5</td>\n",
       "      <td>0.2</td>\n",
       "      <td>Iris-setosa</td>\n",
       "    </tr>\n",
       "    <tr>\n",
       "      <th>4</th>\n",
       "      <td>5</td>\n",
       "      <td>5.0</td>\n",
       "      <td>3.6</td>\n",
       "      <td>1.4</td>\n",
       "      <td>0.2</td>\n",
       "      <td>Iris-setosa</td>\n",
       "    </tr>\n",
       "    <tr>\n",
       "      <th>...</th>\n",
       "      <td>...</td>\n",
       "      <td>...</td>\n",
       "      <td>...</td>\n",
       "      <td>...</td>\n",
       "      <td>...</td>\n",
       "      <td>...</td>\n",
       "    </tr>\n",
       "    <tr>\n",
       "      <th>145</th>\n",
       "      <td>146</td>\n",
       "      <td>6.7</td>\n",
       "      <td>3.0</td>\n",
       "      <td>5.2</td>\n",
       "      <td>2.3</td>\n",
       "      <td>Iris-virginica</td>\n",
       "    </tr>\n",
       "    <tr>\n",
       "      <th>146</th>\n",
       "      <td>147</td>\n",
       "      <td>6.3</td>\n",
       "      <td>2.5</td>\n",
       "      <td>5.0</td>\n",
       "      <td>1.9</td>\n",
       "      <td>Iris-virginica</td>\n",
       "    </tr>\n",
       "    <tr>\n",
       "      <th>147</th>\n",
       "      <td>148</td>\n",
       "      <td>6.5</td>\n",
       "      <td>3.0</td>\n",
       "      <td>5.2</td>\n",
       "      <td>2.0</td>\n",
       "      <td>Iris-virginica</td>\n",
       "    </tr>\n",
       "    <tr>\n",
       "      <th>148</th>\n",
       "      <td>149</td>\n",
       "      <td>6.2</td>\n",
       "      <td>3.4</td>\n",
       "      <td>5.4</td>\n",
       "      <td>2.3</td>\n",
       "      <td>Iris-virginica</td>\n",
       "    </tr>\n",
       "    <tr>\n",
       "      <th>149</th>\n",
       "      <td>150</td>\n",
       "      <td>5.9</td>\n",
       "      <td>3.0</td>\n",
       "      <td>5.1</td>\n",
       "      <td>1.8</td>\n",
       "      <td>Iris-virginica</td>\n",
       "    </tr>\n",
       "  </tbody>\n",
       "</table>\n",
       "<p>150 rows × 6 columns</p>\n",
       "</div>"
      ],
      "text/plain": [
       "      Id  SepalLengthCm  SepalWidthCm  PetalLengthCm  PetalWidthCm  \\\n",
       "0      1            5.1           3.5            1.4           0.2   \n",
       "1      2            4.9           3.0            1.4           0.2   \n",
       "2      3            4.7           3.2            1.3           0.2   \n",
       "3      4            4.6           3.1            1.5           0.2   \n",
       "4      5            5.0           3.6            1.4           0.2   \n",
       "..   ...            ...           ...            ...           ...   \n",
       "145  146            6.7           3.0            5.2           2.3   \n",
       "146  147            6.3           2.5            5.0           1.9   \n",
       "147  148            6.5           3.0            5.2           2.0   \n",
       "148  149            6.2           3.4            5.4           2.3   \n",
       "149  150            5.9           3.0            5.1           1.8   \n",
       "\n",
       "            Species  \n",
       "0       Iris-setosa  \n",
       "1       Iris-setosa  \n",
       "2       Iris-setosa  \n",
       "3       Iris-setosa  \n",
       "4       Iris-setosa  \n",
       "..              ...  \n",
       "145  Iris-virginica  \n",
       "146  Iris-virginica  \n",
       "147  Iris-virginica  \n",
       "148  Iris-virginica  \n",
       "149  Iris-virginica  \n",
       "\n",
       "[150 rows x 6 columns]"
      ]
     },
     "execution_count": 28,
     "metadata": {},
     "output_type": "execute_result"
    }
   ],
   "source": [
    "df = pd.read_csv('Iris.csv')\n",
    "df\n"
   ]
  },
  {
   "cell_type": "code",
   "execution_count": 29,
   "id": "e79750f7",
   "metadata": {},
   "outputs": [
    {
     "data": {
      "text/plain": [
       "(150, 5)"
      ]
     },
     "execution_count": 29,
     "metadata": {},
     "output_type": "execute_result"
    }
   ],
   "source": [
    "X.shape"
   ]
  },
  {
   "cell_type": "code",
   "execution_count": 17,
   "id": "88da38e3",
   "metadata": {},
   "outputs": [],
   "source": [
    "y = df['Species']\n",
    "X = df.drop('Species',axis=1)"
   ]
  },
  {
   "cell_type": "code",
   "execution_count": 30,
   "id": "af9178f2",
   "metadata": {},
   "outputs": [],
   "source": [
    "from sklearn.feature_selection import SelectKBest,chi2\n",
    "model = SelectKBest(score_func=chi2,k=3)\n"
   ]
  },
  {
   "cell_type": "code",
   "execution_count": 31,
   "id": "345a1ce9",
   "metadata": {},
   "outputs": [],
   "source": [
    "z=model.fit_transform(X,y)"
   ]
  },
  {
   "cell_type": "code",
   "execution_count": 49,
   "id": "1438c0d3",
   "metadata": {},
   "outputs": [
    {
     "data": {
      "text/plain": [
       "(150, 3)"
      ]
     },
     "execution_count": 49,
     "metadata": {},
     "output_type": "execute_result"
    }
   ],
   "source": [
    "z.shape\n"
   ]
  },
  {
   "cell_type": "code",
   "execution_count": 50,
   "id": "8f89a6c7",
   "metadata": {},
   "outputs": [
    {
     "data": {
      "text/plain": [
       "Index(['Id', 'SepalLengthCm', 'SepalWidthCm', 'PetalLengthCm', 'PetalWidthCm'], dtype='object')"
      ]
     },
     "execution_count": 50,
     "metadata": {},
     "output_type": "execute_result"
    }
   ],
   "source": [
    "X.columns"
   ]
  },
  {
   "cell_type": "markdown",
   "id": "9bf5b8f6",
   "metadata": {},
   "source": [
    "### Way of finding  Selected Features "
   ]
  },
  {
   "cell_type": "markdown",
   "id": "b241d3b1",
   "metadata": {},
   "source": [
    "###### we use get_support function for finding the selected features"
   ]
  },
  {
   "cell_type": "code",
   "execution_count": 52,
   "id": "0e44536d",
   "metadata": {},
   "outputs": [
    {
     "name": "stdout",
     "output_type": "stream",
     "text": [
      "Selected Best 3:\n",
      "Index(['Id', 'PetalLengthCm', 'PetalWidthCm'], dtype='object')\n",
      "[[1.00e+00 1.40e+00 2.00e-01]\n",
      " [2.00e+00 1.40e+00 2.00e-01]\n",
      " [3.00e+00 1.30e+00 2.00e-01]\n",
      " [4.00e+00 1.50e+00 2.00e-01]\n",
      " [5.00e+00 1.40e+00 2.00e-01]\n",
      " [6.00e+00 1.70e+00 4.00e-01]\n",
      " [7.00e+00 1.40e+00 3.00e-01]\n",
      " [8.00e+00 1.50e+00 2.00e-01]\n",
      " [9.00e+00 1.40e+00 2.00e-01]\n",
      " [1.00e+01 1.50e+00 1.00e-01]\n",
      " [1.10e+01 1.50e+00 2.00e-01]\n",
      " [1.20e+01 1.60e+00 2.00e-01]\n",
      " [1.30e+01 1.40e+00 1.00e-01]\n",
      " [1.40e+01 1.10e+00 1.00e-01]\n",
      " [1.50e+01 1.20e+00 2.00e-01]\n",
      " [1.60e+01 1.50e+00 4.00e-01]\n",
      " [1.70e+01 1.30e+00 4.00e-01]\n",
      " [1.80e+01 1.40e+00 3.00e-01]\n",
      " [1.90e+01 1.70e+00 3.00e-01]\n",
      " [2.00e+01 1.50e+00 3.00e-01]\n",
      " [2.10e+01 1.70e+00 2.00e-01]\n",
      " [2.20e+01 1.50e+00 4.00e-01]\n",
      " [2.30e+01 1.00e+00 2.00e-01]\n",
      " [2.40e+01 1.70e+00 5.00e-01]\n",
      " [2.50e+01 1.90e+00 2.00e-01]\n",
      " [2.60e+01 1.60e+00 2.00e-01]\n",
      " [2.70e+01 1.60e+00 4.00e-01]\n",
      " [2.80e+01 1.50e+00 2.00e-01]\n",
      " [2.90e+01 1.40e+00 2.00e-01]\n",
      " [3.00e+01 1.60e+00 2.00e-01]\n",
      " [3.10e+01 1.60e+00 2.00e-01]\n",
      " [3.20e+01 1.50e+00 4.00e-01]\n",
      " [3.30e+01 1.50e+00 1.00e-01]\n",
      " [3.40e+01 1.40e+00 2.00e-01]\n",
      " [3.50e+01 1.50e+00 1.00e-01]\n",
      " [3.60e+01 1.20e+00 2.00e-01]\n",
      " [3.70e+01 1.30e+00 2.00e-01]\n",
      " [3.80e+01 1.50e+00 1.00e-01]\n",
      " [3.90e+01 1.30e+00 2.00e-01]\n",
      " [4.00e+01 1.50e+00 2.00e-01]\n",
      " [4.10e+01 1.30e+00 3.00e-01]\n",
      " [4.20e+01 1.30e+00 3.00e-01]\n",
      " [4.30e+01 1.30e+00 2.00e-01]\n",
      " [4.40e+01 1.60e+00 6.00e-01]\n",
      " [4.50e+01 1.90e+00 4.00e-01]\n",
      " [4.60e+01 1.40e+00 3.00e-01]\n",
      " [4.70e+01 1.60e+00 2.00e-01]\n",
      " [4.80e+01 1.40e+00 2.00e-01]\n",
      " [4.90e+01 1.50e+00 2.00e-01]\n",
      " [5.00e+01 1.40e+00 2.00e-01]\n",
      " [5.10e+01 4.70e+00 1.40e+00]\n",
      " [5.20e+01 4.50e+00 1.50e+00]\n",
      " [5.30e+01 4.90e+00 1.50e+00]\n",
      " [5.40e+01 4.00e+00 1.30e+00]\n",
      " [5.50e+01 4.60e+00 1.50e+00]\n",
      " [5.60e+01 4.50e+00 1.30e+00]\n",
      " [5.70e+01 4.70e+00 1.60e+00]\n",
      " [5.80e+01 3.30e+00 1.00e+00]\n",
      " [5.90e+01 4.60e+00 1.30e+00]\n",
      " [6.00e+01 3.90e+00 1.40e+00]\n",
      " [6.10e+01 3.50e+00 1.00e+00]\n",
      " [6.20e+01 4.20e+00 1.50e+00]\n",
      " [6.30e+01 4.00e+00 1.00e+00]\n",
      " [6.40e+01 4.70e+00 1.40e+00]\n",
      " [6.50e+01 3.60e+00 1.30e+00]\n",
      " [6.60e+01 4.40e+00 1.40e+00]\n",
      " [6.70e+01 4.50e+00 1.50e+00]\n",
      " [6.80e+01 4.10e+00 1.00e+00]\n",
      " [6.90e+01 4.50e+00 1.50e+00]\n",
      " [7.00e+01 3.90e+00 1.10e+00]\n",
      " [7.10e+01 4.80e+00 1.80e+00]\n",
      " [7.20e+01 4.00e+00 1.30e+00]\n",
      " [7.30e+01 4.90e+00 1.50e+00]\n",
      " [7.40e+01 4.70e+00 1.20e+00]\n",
      " [7.50e+01 4.30e+00 1.30e+00]\n",
      " [7.60e+01 4.40e+00 1.40e+00]\n",
      " [7.70e+01 4.80e+00 1.40e+00]\n",
      " [7.80e+01 5.00e+00 1.70e+00]\n",
      " [7.90e+01 4.50e+00 1.50e+00]\n",
      " [8.00e+01 3.50e+00 1.00e+00]\n",
      " [8.10e+01 3.80e+00 1.10e+00]\n",
      " [8.20e+01 3.70e+00 1.00e+00]\n",
      " [8.30e+01 3.90e+00 1.20e+00]\n",
      " [8.40e+01 5.10e+00 1.60e+00]\n",
      " [8.50e+01 4.50e+00 1.50e+00]\n",
      " [8.60e+01 4.50e+00 1.60e+00]\n",
      " [8.70e+01 4.70e+00 1.50e+00]\n",
      " [8.80e+01 4.40e+00 1.30e+00]\n",
      " [8.90e+01 4.10e+00 1.30e+00]\n",
      " [9.00e+01 4.00e+00 1.30e+00]\n",
      " [9.10e+01 4.40e+00 1.20e+00]\n",
      " [9.20e+01 4.60e+00 1.40e+00]\n",
      " [9.30e+01 4.00e+00 1.20e+00]\n",
      " [9.40e+01 3.30e+00 1.00e+00]\n",
      " [9.50e+01 4.20e+00 1.30e+00]\n",
      " [9.60e+01 4.20e+00 1.20e+00]\n",
      " [9.70e+01 4.20e+00 1.30e+00]\n",
      " [9.80e+01 4.30e+00 1.30e+00]\n",
      " [9.90e+01 3.00e+00 1.10e+00]\n",
      " [1.00e+02 4.10e+00 1.30e+00]\n",
      " [1.01e+02 6.00e+00 2.50e+00]\n",
      " [1.02e+02 5.10e+00 1.90e+00]\n",
      " [1.03e+02 5.90e+00 2.10e+00]\n",
      " [1.04e+02 5.60e+00 1.80e+00]\n",
      " [1.05e+02 5.80e+00 2.20e+00]\n",
      " [1.06e+02 6.60e+00 2.10e+00]\n",
      " [1.07e+02 4.50e+00 1.70e+00]\n",
      " [1.08e+02 6.30e+00 1.80e+00]\n",
      " [1.09e+02 5.80e+00 1.80e+00]\n",
      " [1.10e+02 6.10e+00 2.50e+00]\n",
      " [1.11e+02 5.10e+00 2.00e+00]\n",
      " [1.12e+02 5.30e+00 1.90e+00]\n",
      " [1.13e+02 5.50e+00 2.10e+00]\n",
      " [1.14e+02 5.00e+00 2.00e+00]\n",
      " [1.15e+02 5.10e+00 2.40e+00]\n",
      " [1.16e+02 5.30e+00 2.30e+00]\n",
      " [1.17e+02 5.50e+00 1.80e+00]\n",
      " [1.18e+02 6.70e+00 2.20e+00]\n",
      " [1.19e+02 6.90e+00 2.30e+00]\n",
      " [1.20e+02 5.00e+00 1.50e+00]\n",
      " [1.21e+02 5.70e+00 2.30e+00]\n",
      " [1.22e+02 4.90e+00 2.00e+00]\n",
      " [1.23e+02 6.70e+00 2.00e+00]\n",
      " [1.24e+02 4.90e+00 1.80e+00]\n",
      " [1.25e+02 5.70e+00 2.10e+00]\n",
      " [1.26e+02 6.00e+00 1.80e+00]\n",
      " [1.27e+02 4.80e+00 1.80e+00]\n",
      " [1.28e+02 4.90e+00 1.80e+00]\n",
      " [1.29e+02 5.60e+00 2.10e+00]\n",
      " [1.30e+02 5.80e+00 1.60e+00]\n",
      " [1.31e+02 6.10e+00 1.90e+00]\n",
      " [1.32e+02 6.40e+00 2.00e+00]\n",
      " [1.33e+02 5.60e+00 2.20e+00]\n",
      " [1.34e+02 5.10e+00 1.50e+00]\n",
      " [1.35e+02 5.60e+00 1.40e+00]\n",
      " [1.36e+02 6.10e+00 2.30e+00]\n",
      " [1.37e+02 5.60e+00 2.40e+00]\n",
      " [1.38e+02 5.50e+00 1.80e+00]\n",
      " [1.39e+02 4.80e+00 1.80e+00]\n",
      " [1.40e+02 5.40e+00 2.10e+00]\n",
      " [1.41e+02 5.60e+00 2.40e+00]\n",
      " [1.42e+02 5.10e+00 2.30e+00]\n",
      " [1.43e+02 5.10e+00 1.90e+00]\n",
      " [1.44e+02 5.90e+00 2.30e+00]\n",
      " [1.45e+02 5.70e+00 2.50e+00]\n",
      " [1.46e+02 5.20e+00 2.30e+00]\n",
      " [1.47e+02 5.00e+00 1.90e+00]\n",
      " [1.48e+02 5.20e+00 2.00e+00]\n",
      " [1.49e+02 5.40e+00 2.30e+00]\n",
      " [1.50e+02 5.10e+00 1.80e+00]]\n"
     ]
    }
   ],
   "source": [
    "from array import array\n",
    "filter = model.get_support()\n",
    "features = X.columns\n",
    "print(\"Selected Best 3:\")\n",
    "print(features[filter])\n",
    "print(z)"
   ]
  },
  {
   "cell_type": "markdown",
   "id": "096608d5",
   "metadata": {},
   "source": [
    "### 2.SelectPercentile"
   ]
  },
  {
   "cell_type": "markdown",
   "id": "4680abb2",
   "metadata": {},
   "source": [
    "###### Selecting featues according to percentile of the highest score"
   ]
  },
  {
   "cell_type": "code",
   "execution_count": 57,
   "id": "dec8b700",
   "metadata": {},
   "outputs": [
    {
     "data": {
      "text/plain": [
       "(1797, 64)"
      ]
     },
     "execution_count": 57,
     "metadata": {},
     "output_type": "execute_result"
    }
   ],
   "source": [
    "from sklearn.datasets import load_digits\n",
    "from sklearn.feature_selection import SelectPercentile,chi2\n",
    "X, y = load_digits(return_X_y=True)\n",
    "X.shape\n"
   ]
  },
  {
   "cell_type": "code",
   "execution_count": 67,
   "id": "7dbf3dcb",
   "metadata": {},
   "outputs": [],
   "source": [
    "MODEL = SelectPercentile(chi2,percentile=20)\n",
    "z=MODEL.fit_transform(X,y).shape\n",
    "\n"
   ]
  },
  {
   "cell_type": "markdown",
   "id": "a3463fab",
   "metadata": {},
   "source": [
    "###### For regression tasks: f_regression, mutual_info_regression\n",
    "For classification tasks: chi2, f_classif, mutual_info_classif\n",
    "\n"
   ]
  }
 ],
 "metadata": {
  "kernelspec": {
   "display_name": "Python 3 (ipykernel)",
   "language": "python",
   "name": "python3"
  },
  "language_info": {
   "codemirror_mode": {
    "name": "ipython",
    "version": 3
   },
   "file_extension": ".py",
   "mimetype": "text/x-python",
   "name": "python",
   "nbconvert_exporter": "python",
   "pygments_lexer": "ipython3",
   "version": "3.9.13"
  }
 },
 "nbformat": 4,
 "nbformat_minor": 5
}
